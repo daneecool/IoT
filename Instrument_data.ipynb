{
 "cells": [
  {
   "cell_type": "code",
   "execution_count": 6,
   "id": "80faef73",
   "metadata": {},
   "outputs": [
    {
     "data": {
      "text/plain": [
       "'/home/share/Test/IoT/renewable_energy_april_2025.csv'"
      ]
     },
     "execution_count": 6,
     "metadata": {},
     "output_type": "execute_result"
    }
   ],
   "source": [
    "# Import the pandas library for data manipulation and analysis\n",
    "import pandas as pd\n",
    "\n",
    "# Import the numpy library for numerical computations\n",
    "import numpy as np\n",
    "\n",
    "# Import datetime and timedelta for working with dates and times\n",
    "from datetime import datetime, timedelta\n",
    "\n",
    "# Generate timestamps for each hour in April 2025 (30 days)\n",
    "# Define the starting date and time as April 1, 2025\n",
    "start_time = datetime(2025, 4, 1)\n",
    "\n",
    "# Create a list of timestamps for every hour in April 2025\n",
    "# 30 days * 24 hours = 720 timestamps\n",
    "timestamps = [start_time + timedelta(hours=i) for i in range(30 * 24)]\n",
    "\n",
    "# Define a function to simulate solar power based on the hour of the day\n",
    "def solar_power(hour):\n",
    "    # Check if the hour is between 6 AM and 6 PM (daylight hours)\n",
    "    if 6 <= hour <= 18:\n",
    "        # Generate a random solar power value using a normal distribution\n",
    "        # Mean (loc) = 2500 watts, Standard deviation (scale) = 1000 watts\n",
    "        # Reduce the chance of zero to 5% and simulate cloudy conditions with lower power\n",
    "        return int(np.random.normal(loc=2500, scale=1000)) if np.random.rand() > 0.05 else int(np.random.uniform(100, 500))\n",
    "    # Return a small baseline power for non-daylight hours (e.g., residual energy)\n",
    "    return int(np.random.uniform(50, 150))\n",
    "\n",
    "# Generate data for the DataFrame\n",
    "data = {\n",
    "    # Convert each timestamp to ISO 8601 format (e.g., \"2025-04-01T00:00:00Z\")\n",
    "    \"timestamp\": [t.isoformat() + \"Z\" for t in timestamps],\n",
    "    \n",
    "    # Generate solar power values for each timestamp using the solar_power function\n",
    "    # Ensure no negative values by using max(0, value)\n",
    "    \"solar_power_w\": [max(0, solar_power(t.hour)) for t in timestamps],\n",
    "    \n",
    "    # Simulate battery voltage values using a normal distribution\n",
    "    # Mean (loc) = 12.5 volts, Standard deviation (scale) = 0.3 volts\n",
    "    # Round the values to 2 decimal places\n",
    "    \"battery_voltage_v\": np.round(np.random.normal(loc=12.5, scale=0.3, size=30 * 24), 2),\n",
    "    \n",
    "    # Simulate hydrogen pressure values using a normal distribution\n",
    "    # Mean (loc) = 30 psi, Standard deviation (scale) = 1 psi\n",
    "    # Round the values to 2 decimal places\n",
    "    \"hydrogen_pressure_psi\": np.round(np.random.normal(loc=30.0, scale=1.0, size=30 * 24), 2)\n",
    "}\n",
    "\n",
    "# Create a pandas DataFrame from the generated data\n",
    "df = pd.DataFrame(data)\n",
    "\n",
    "# Define the file path where the CSV file will be saved\n",
    "csv_path = \"/home/share/Test/IoT/renewable_energy_april_2025.csv\"\n",
    "\n",
    "# Save the DataFrame to a CSV file at the specified path\n",
    "# Do not include the index column in the CSV file\n",
    "df.to_csv(csv_path, index=False)\n",
    "\n",
    "# Output the file path of the saved CSV file\n",
    "csv_path"
   ]
  }
 ],
 "metadata": {
  "kernelspec": {
   "display_name": "Python 3",
   "language": "python",
   "name": "python3"
  },
  "language_info": {
   "codemirror_mode": {
    "name": "ipython",
    "version": 3
   },
   "file_extension": ".py",
   "mimetype": "text/x-python",
   "name": "python",
   "nbconvert_exporter": "python",
   "pygments_lexer": "ipython3",
   "version": "3.9.21"
  }
 },
 "nbformat": 4,
 "nbformat_minor": 5
}
