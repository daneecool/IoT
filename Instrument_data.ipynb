{
 "cells": [
  {
   "cell_type": "code",
   "execution_count": null,
   "id": "80faef73",
   "metadata": {},
   "outputs": [
    {
     "name": "stdout",
     "output_type": "stream",
     "text": [
      "Reformatted CSV saved to /home/share/Test/IoT/renewable_energy_april_2025_reformatted.csv\n"
     ]
    }
   ],
   "source": [
    "import pandas as pd\n",
    "import numpy as np\n",
    "\n",
    "# Define the CSV file path\n",
    "csv_path = \"/home/share/Test/IoT/renewable_energy_april_2025.csv\"\n",
    "\n",
    "# Read the CSV file into a pandas DataFrame\n",
    "df = pd.read_csv(csv_path)\n",
    "\n",
    "# Add a new column for the measurement name\n",
    "df[\"measurement_name\"] = \"solar\"\n",
    "\n",
    "# Add a new column for the location (e.g., \"inverter1\")\n",
    "df[\"location\"] = \"inverter1\"\n",
    "\n",
    "# Generate realistic random solar power values (e.g., between 100 and 1000 watts)\n",
    "df[\"solar_power_w\"] = np.random.randint(100, 1001, size=len(df))\n",
    "\n",
    "# Rename columns to match the required format\n",
    "df = df.rename(columns={\n",
    "    \"solar_power_w\": \"power\",\n",
    "    \"battery_voltage_v\": \"voltage\",\n",
    "    \"timestamp\": \"time\"\n",
    "})\n",
    "\n",
    "# Reorder columns to match the required format\n",
    "df = df[[\"measurement_name\", \"location\", \"power\", \"voltage\", \"time\"]]\n",
    "\n",
    "# Define the output CSV file path\n",
    "output_csv_path = \"/home/share/Test/IoT/renewable_energy_april_2025_reformatted.csv\"\n",
    "\n",
    "# Save the reformatted DataFrame to a new CSV file\n",
    "df.to_csv(output_csv_path, index=False)\n",
    "\n",
    "print(f\"Reformatted CSV saved to {output_csv_path}\")"
   ]
  }
 ],
 "metadata": {
  "kernelspec": {
   "display_name": "Python 3",
   "language": "python",
   "name": "python3"
  },
  "language_info": {
   "codemirror_mode": {
    "name": "ipython",
    "version": 3
   },
   "file_extension": ".py",
   "mimetype": "text/x-python",
   "name": "python",
   "nbconvert_exporter": "python",
   "pygments_lexer": "ipython3",
   "version": "3.9.21"
  }
 },
 "nbformat": 4,
 "nbformat_minor": 5
}
